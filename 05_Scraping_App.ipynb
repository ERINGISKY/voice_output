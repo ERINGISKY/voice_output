{
 "cells": [
  {
   "cell_type": "code",
   "execution_count": 2,
   "metadata": {},
   "outputs": [
    {
     "name": "stdout",
     "output_type": "stream",
     "text": [
      "Defaulting to user installation because normal site-packages is not writeable\n",
      "Requirement already satisfied: beautifulsoup4 in c:\\users\\sho\\appdata\\roaming\\python\\python39\\site-packages (4.10.0)\n",
      "Requirement already satisfied: soupsieve>1.2 in c:\\users\\sho\\appdata\\roaming\\python\\python39\\site-packages (from beautifulsoup4) (2.2.1)\n",
      "Note: you may need to restart the kernel to use updated packages.\n"
     ]
    },
    {
     "name": "stderr",
     "output_type": "stream",
     "text": [
      "WARNING: You are using pip version 22.0.3; however, version 22.1.1 is available.\n",
      "You should consider upgrading via the 'c:\\Program Files\\Python39\\python.exe -m pip install --upgrade pip' command.\n"
     ]
    }
   ],
   "source": [
    "pip install beautifulsoup4"
   ]
  },
  {
   "cell_type": "code",
   "execution_count": 3,
   "metadata": {},
   "outputs": [],
   "source": [
    "from bs4 import BeautifulSoup\n",
    "import requests"
   ]
  },
  {
   "cell_type": "code",
   "execution_count": 4,
   "metadata": {},
   "outputs": [],
   "source": [
    "url = 'https://scraping-for-beginner.herokuapp.com/udemy'\n"
   ]
  },
  {
   "cell_type": "code",
   "execution_count": 5,
   "metadata": {},
   "outputs": [],
   "source": [
    "res = requests.get(url)\n"
   ]
  },
  {
   "cell_type": "code",
   "execution_count": 7,
   "metadata": {},
   "outputs": [
    {
     "data": {
      "text/plain": [
       "'<!DOCTYPE html>\\n<html lang=\"en\" dir=\"ltr\">\\n<head>\\n  <meta charset=\"utf-8\">\\n  <title>Webスクレイピング入門者のためのサイト</title>\\n  <!-- Compiled and minified CSS -->\\n  <link rel=\"stylesheet\" href=\"https://cdnjs.cloudflare.com/ajax/libs/materialize/1.0.0-rc.2/css/materialize.min.css\">\\n  <link href=\"https://fonts.googleapis.com/icon?family=Material+Icons\" rel=\"stylesheet\"> \\x08\\n  <link rel=\"stylesheet\" href=\"static/assets/css/style.css\">\\n  <link rel=\"stylesheet\" href=\"static/assets/css/udemy.css\">\\n  <!-- <link rel=\"stylesheet\" href=\"static/assets/css/mypage.css\"> -->\\n</head>\\n\\n<body>\\n  <!-- Navbar -->\\n  <div class=\"navbar-fixed\">\\n    <!-- Dropdown Structure -->\\n    <nav class=\"\">\\n      <div class=\"nav-wrapper row\">\\n        <div class=\"col s5 l4 offset-s1 offset-l1\">\\n          <a href=\"\\x08/\" class=\"brand-logo\">Webスクレイピング入門</a>\\n        </div>\\n        <div class=\"col s5 l6\">\\n          <ul id=\"nav-mobile\" class=\"right hide-on-med-and-down\">\\n            <li><a href=\"\\x08/login_page\" class=\"\">ログイン</a></li>\\n            <li><a href=\"/ranking/\" class=\"\">ランキング</a></li>\\n            <li><a href=\"/image\" class=\"\">画像</a></li>\\n            <li><a href=\"/udemy\" class=\"\">Udemy</a></li>\\n            <li><a href=\"https://scraping-for-beginner.readthedocs.io/\" target=”_blank” class=\"\">サンプルコード</a></li>\\n          </ul>\\n        </div>\\n      </div>\\n    </nav>\\n  </div>\\n\\n  \\n\\n<div class=\"row\">\\n  <div class=\"col s4 offset-s4\">\\n    <div class=\"overview\">\\n      <p>\\n      こちらのページは、<b>PythonによるWebスクレイピング〜Webアプリケーション編〜</b>で使用します。\\n      </p>\\n    </div>\\n    <div class=\"\">\\n      <div class=\"\">\\n        <div class=\"card\">\\n          <div class=\"card-image\">\\n            <img src=\"/static/assets/img/imanyu.png\">\\n            <span class=\"card-title\" style=\"color: black; background-color: white;\">いまにゅ</span>\\n          </div>\\n          <div class=\"card-content\">\\n            <p><b><p class=\"position\">いまにゅのプログラミング塾｜code4biz 代表</p></b><br>\\n\\n            『プログラミング×〇〇』でビジネス戦闘力を向上させる｜東京理科大出身｜元東北大学 非常勤講師｜東進デジタルユニバーシティ最年少講師｜AI教育系ベンチャー（キカガク）取締役 → 今｜Udemy受講生3.3万人｜YouTubeチャンネル登録者10.5万人｜プログラミング初学者に欠かせない学習法等を発信<br>\\n\\n            </p>\\n          </div>\\n          <div class=\"card-action\">\\n              <p class=\"subscribers\">受講生の数：16487</p>\\n              <p class=\"reviews\">レビューの数：2834</p>\\n          </div>\\n        </div>\\n      </div>\\n    </div>\\n\\n  </div>\\n</div>\\n\\n\\n  <!-- Compiled and minified JavaScript -->\\n  <script src=\"https://code.jquery.com/jquery-3.3.1.min.js\"></script>\\n  <script src=\"https://cdnjs.cloudflare.com/ajax/libs/materialize/1.0.0-rc.2/js/materialize.min.js\"></script>\\n  <script type=\"text/javascript\">\\n    $(document).ready(function() {\\n      $(\".dropdown-trigger\").dropdown();\\n    });\\n  </script>\\n\\n\\n</body>\\n\\n</html>'"
      ]
     },
     "execution_count": 7,
     "metadata": {},
     "output_type": "execute_result"
    }
   ],
   "source": [
    "res.text"
   ]
  },
  {
   "cell_type": "code",
   "execution_count": 8,
   "metadata": {},
   "outputs": [
    {
     "data": {
      "text/plain": [
       "<!DOCTYPE html>\n",
       "\n",
       "<html dir=\"ltr\" lang=\"en\">\n",
       "<head>\n",
       "<meta charset=\"utf-8\"/>\n",
       "<title>Webスクレイピング入門者のためのサイト</title>\n",
       "<!-- Compiled and minified CSS -->\n",
       "<link href=\"https://cdnjs.cloudflare.com/ajax/libs/materialize/1.0.0-rc.2/css/materialize.min.css\" rel=\"stylesheet\"/>\n",
       "<link href=\"https://fonts.googleapis.com/icon?family=Material+Icons\" rel=\"stylesheet\"/> \b\n",
       "  <link href=\"static/assets/css/style.css\" rel=\"stylesheet\"/>\n",
       "<link href=\"static/assets/css/udemy.css\" rel=\"stylesheet\"/>\n",
       "<!-- <link rel=\"stylesheet\" href=\"static/assets/css/mypage.css\"> -->\n",
       "</head>\n",
       "<body>\n",
       "<!-- Navbar -->\n",
       "<div class=\"navbar-fixed\">\n",
       "<!-- Dropdown Structure -->\n",
       "<nav class=\"\">\n",
       "<div class=\"nav-wrapper row\">\n",
       "<div class=\"col s5 l4 offset-s1 offset-l1\">\n",
       "<a class=\"brand-logo\" href=\"\b/\">Webスクレイピング入門</a>\n",
       "</div>\n",
       "<div class=\"col s5 l6\">\n",
       "<ul class=\"right hide-on-med-and-down\" id=\"nav-mobile\">\n",
       "<li><a class=\"\" href=\"\b/login_page\">ログイン</a></li>\n",
       "<li><a class=\"\" href=\"/ranking/\">ランキング</a></li>\n",
       "<li><a class=\"\" href=\"/image\">画像</a></li>\n",
       "<li><a class=\"\" href=\"/udemy\">Udemy</a></li>\n",
       "<li><a class=\"\" href=\"https://scraping-for-beginner.readthedocs.io/\" target=\"”_blank”\">サンプルコード</a></li>\n",
       "</ul>\n",
       "</div>\n",
       "</div>\n",
       "</nav>\n",
       "</div>\n",
       "<div class=\"row\">\n",
       "<div class=\"col s4 offset-s4\">\n",
       "<div class=\"overview\">\n",
       "<p>\n",
       "      こちらのページは、<b>PythonによるWebスクレイピング〜Webアプリケーション編〜</b>で使用します。\n",
       "      </p>\n",
       "</div>\n",
       "<div class=\"\">\n",
       "<div class=\"\">\n",
       "<div class=\"card\">\n",
       "<div class=\"card-image\">\n",
       "<img src=\"/static/assets/img/imanyu.png\"/>\n",
       "<span class=\"card-title\" style=\"color: black; background-color: white;\">いまにゅ</span>\n",
       "</div>\n",
       "<div class=\"card-content\">\n",
       "<p><b><p class=\"position\">いまにゅのプログラミング塾｜code4biz 代表</p></b><br/>\n",
       "\n",
       "            『プログラミング×〇〇』でビジネス戦闘力を向上させる｜東京理科大出身｜元東北大学 非常勤講師｜東進デジタルユニバーシティ最年少講師｜AI教育系ベンチャー（キカガク）取締役 → 今｜Udemy受講生3.3万人｜YouTubeチャンネル登録者10.5万人｜プログラミング初学者に欠かせない学習法等を発信<br/>\n",
       "</p>\n",
       "</div>\n",
       "<div class=\"card-action\">\n",
       "<p class=\"subscribers\">受講生の数：16487</p>\n",
       "<p class=\"reviews\">レビューの数：2834</p>\n",
       "</div>\n",
       "</div>\n",
       "</div>\n",
       "</div>\n",
       "</div>\n",
       "</div>\n",
       "<!-- Compiled and minified JavaScript -->\n",
       "<script src=\"https://code.jquery.com/jquery-3.3.1.min.js\"></script>\n",
       "<script src=\"https://cdnjs.cloudflare.com/ajax/libs/materialize/1.0.0-rc.2/js/materialize.min.js\"></script>\n",
       "<script type=\"text/javascript\">\n",
       "    $(document).ready(function() {\n",
       "      $(\".dropdown-trigger\").dropdown();\n",
       "    });\n",
       "  </script>\n",
       "</body>\n",
       "</html>"
      ]
     },
     "execution_count": 8,
     "metadata": {},
     "output_type": "execute_result"
    }
   ],
   "source": [
    "soup = BeautifulSoup(res.text, 'html.parser')\n",
    "soup"
   ]
  },
  {
   "cell_type": "code",
   "execution_count": 43,
   "metadata": {},
   "outputs": [
    {
     "data": {
      "text/plain": [
       "'受講生の数：16487'"
      ]
     },
     "execution_count": 43,
     "metadata": {},
     "output_type": "execute_result"
    }
   ],
   "source": [
    "n_subscriber = soup.find('p',{'class':'subscribers'}).text\n",
    "n_subscriber\n"
   ]
  },
  {
   "cell_type": "code",
   "execution_count": 44,
   "metadata": {},
   "outputs": [
    {
     "data": {
      "text/plain": [
       "16487"
      ]
     },
     "execution_count": 44,
     "metadata": {},
     "output_type": "execute_result"
    }
   ],
   "source": [
    "n_subscriber = int(n_subscriber.split('：')[1])\n",
    "n_subscriber\n"
   ]
  },
  {
   "cell_type": "code",
   "execution_count": 45,
   "metadata": {},
   "outputs": [
    {
     "data": {
      "text/plain": [
       "2834"
      ]
     },
     "execution_count": 45,
     "metadata": {},
     "output_type": "execute_result"
    }
   ],
   "source": [
    "n_review = soup.find('p', {'class': 'reviews'}).text\n",
    "n_review = int(n_review.split('：')[1])\n",
    "n_review\n"
   ]
  },
  {
   "cell_type": "code",
   "execution_count": 46,
   "metadata": {},
   "outputs": [],
   "source": [
    "url_ec = 'https://scraping.official.ec/'\n"
   ]
  },
  {
   "cell_type": "code",
   "execution_count": 49,
   "metadata": {},
   "outputs": [
    {
     "data": {
      "text/plain": [
       "<ul class=\"items-grid_itemList_5a0255a1\" data-app-item-label=\"\" data-columns-pc=\"4\" data-columns-sp=\"2\" data-currency=\"JPY\" data-current=\"1\" data-endpoint=\"https://scraping.official.ec/load_items/\" data-exchange-rate=\"1\" data-frame=\"on\" data-items=\"4\" data-lang=\"ja\" data-last-page=\"1\" data-transparent=\"\" data-view-layout=\"rectangle\" id=\"itemList\"> <li class=\"items-grid_itemListLI_5a0255a1\"> <a class=\"items-grid_anchor_5a0255a1 js-anchor\" href=\"https://scraping.official.ec/items/40792108\"> <div class=\"items-grid_container_5a0255a1\"> <div class=\"items-grid_imageContainer_5a0255a1\"> <div class=\"items-grid_imageOuter_5a0255a1\"> <div class=\"items-grid_imageInner_5a0255a1\"> <img class=\"items-grid_image_5a0255a1\" data-src1280=\"https://baseec-img-mng.akamaized.net/images/item/origin/8397aca82a4a0a64729cdd8d327145da.png?imformat=generic&amp;q=90&amp;im=Resize,width=1280,type=normal\" height=\"640\" loading=\"lazy\" src=\"https://baseec-img-mng.akamaized.net/images/item/origin/8397aca82a4a0a64729cdd8d327145da.png?imformat=generic&amp;q=90&amp;im=Resize,width=640,type=normal\" width=\"640\"/> </div> <div class=\"items-grid_infoContainer_5a0255a1\"> <div class=\"items-grid_infoHead_5a0255a1\"> <div class=\"items-grid_itemTitle_5a0255a1\"> <p class=\"items-grid_itemTitleText_5a0255a1\">プログラミング学習の相談</p> </div> <div class=\"items-grid_itemPrice_5a0255a1\"> <p class=\"items-grid_price_5a0255a1\">¥30,000</p> </div> <div class=\"items-grid_itemInfoLabels_5a0255a1\"> </div> </div> <div class=\"items-grid_itemDescription_5a0255a1\"> <p class=\"items-grid_itemDescriptionText_5a0255a1\">プログラミング学習に関する相談をお受けいたします。\n",
       "購入成立後、日程調整を行いZoom URLをお送りいたします。\n",
       "事前にお送りする質問にお答えいただいた上で、1時間の相談会を実施します。\n",
       "主に、何をどのように学んでいけばよいか迷っている方や、プログラミングに躓いて悩んでいる初学者におすすめです。</p> </div> </div> </div> </div> </div> </a> </li> <li class=\"items-grid_itemListLI_5a0255a1\"> <a class=\"items-grid_anchor_5a0255a1 js-anchor\" href=\"https://scraping.official.ec/items/40792153\"> <div class=\"items-grid_container_5a0255a1\"> <div class=\"items-grid_imageContainer_5a0255a1\"> <div class=\"items-grid_imageOuter_5a0255a1\"> <div class=\"items-grid_imageInner_5a0255a1\"> <img class=\"items-grid_image_5a0255a1\" data-src1280=\"https://baseec-img-mng.akamaized.net/images/item/origin/e493302a92e0de9625b588e0bb4bad6c.png?imformat=generic&amp;q=90&amp;im=Resize,width=1280,type=normal\" height=\"640\" loading=\"lazy\" src=\"https://baseec-img-mng.akamaized.net/images/item/origin/e493302a92e0de9625b588e0bb4bad6c.png?imformat=generic&amp;q=90&amp;im=Resize,width=640,type=normal\" width=\"640\"/> </div> <div class=\"items-grid_infoContainer_5a0255a1\"> <div class=\"items-grid_infoHead_5a0255a1\"> <div class=\"items-grid_itemTitle_5a0255a1\"> <p class=\"items-grid_itemTitleText_5a0255a1\">顧問 &amp; アドバイザリー</p> </div> <div class=\"items-grid_itemPrice_5a0255a1\"> <p class=\"items-grid_price_5a0255a1\">¥100,000</p> </div> <div class=\"items-grid_itemInfoLabels_5a0255a1\"> </div> </div> <div class=\"items-grid_itemDescription_5a0255a1\"> <p class=\"items-grid_itemDescriptionText_5a0255a1\">下記カテゴリにおける企業のアドバイザリーを担当します。\n",
       "\n",
       "・IT/DX化\n",
       "・教育\n",
       "・営業戦略\n",
       "・人事領域（採用、育成）\n",
       "\n",
       "現在とあるブロックチェーンベンチャー企業にて、教育フェローとして教育事業の方針設計から、それにおける採用計画、運用面の設計までのアドバイス、構想立案を行っています。</p> </div> </div> </div> </div> </div> </a> </li> <li class=\"items-grid_itemListLI_5a0255a1\"> <a class=\"items-grid_anchor_5a0255a1 js-anchor\" href=\"https://scraping.official.ec/items/40792284\"> <div class=\"items-grid_container_5a0255a1\"> <div class=\"items-grid_imageContainer_5a0255a1\"> <div class=\"items-grid_imageOuter_5a0255a1\"> <div class=\"items-grid_imageInner_5a0255a1\"> <img class=\"items-grid_image_5a0255a1\" data-src1280=\"https://baseec-img-mng.akamaized.net/images/item/origin/33afc89ae72e60f1031c64d713911105.png?imformat=generic&amp;q=90&amp;im=Resize,width=1280,type=normal\" height=\"640\" loading=\"lazy\" src=\"https://baseec-img-mng.akamaized.net/images/item/origin/33afc89ae72e60f1031c64d713911105.png?imformat=generic&amp;q=90&amp;im=Resize,width=640,type=normal\" width=\"640\"/> </div> <div class=\"items-grid_infoContainer_5a0255a1\"> <div class=\"items-grid_infoHead_5a0255a1\"> <div class=\"items-grid_itemTitle_5a0255a1\"> <p class=\"items-grid_itemTitleText_5a0255a1\">Udemy講座まとめ買いパック</p> </div> <div class=\"items-grid_itemPrice_5a0255a1\"> <p class=\"items-grid_price_5a0255a1\">¥8,000</p> </div> <div class=\"items-grid_itemInfoLabels_5a0255a1\"> </div> </div> <div class=\"items-grid_itemDescription_5a0255a1\"> <p class=\"items-grid_itemDescriptionText_5a0255a1\">私がUdemyで公開している下記講座4点セットを特別価格で販売いたします。\n",
       "\n",
       "・PythonによるWebスクレイピング〜入門編〜【業務効率化への第一歩】\n",
       "　※定価：15,600円\n",
       "・PythonによるWebスクレイピング 〜Webアプリケーション編〜\n",
       "　※定価：22,800円\n",
       "・ビジネスパーソンに贈る業務効率化大全 〜Google Apps Scriptによる業務の自動化〜\n",
       "　※定価：24,000円\n",
       "・プログラミングを業務で活かす！PythonによるWeb API活用講座\n",
       "　※定価：19,800円</p> </div> </div> </div> </div> </div> </a> </li> <li class=\"items-grid_itemListLI_5a0255a1\"> <a class=\"items-grid_anchor_5a0255a1 js-anchor\" href=\"https://scraping.official.ec/items/40792454\"> <div class=\"items-grid_container_5a0255a1\"> <div class=\"items-grid_imageContainer_5a0255a1\"> <div class=\"items-grid_imageOuter_5a0255a1\"> <div class=\"items-grid_imageInner_5a0255a1\"> <img class=\"items-grid_image_5a0255a1\" data-src1280=\"https://baseec-img-mng.akamaized.net/images/item/origin/ce284316ad624e6e791f8b3d3165f4bf.png?imformat=generic&amp;q=90&amp;im=Resize,width=1280,type=normal\" height=\"640\" loading=\"lazy\" src=\"https://baseec-img-mng.akamaized.net/images/item/origin/ce284316ad624e6e791f8b3d3165f4bf.png?imformat=generic&amp;q=90&amp;im=Resize,width=640,type=normal\" width=\"640\"/> </div> <div class=\"items-grid_infoContainer_5a0255a1\"> <div class=\"items-grid_infoHead_5a0255a1\"> <div class=\"items-grid_itemTitle_5a0255a1\"> <p class=\"items-grid_itemTitleText_5a0255a1\">YouTubeコンサルティング</p> </div> <div class=\"items-grid_itemPrice_5a0255a1\"> <p class=\"items-grid_price_5a0255a1\">¥15,000</p> </div> <div class=\"items-grid_itemInfoLabels_5a0255a1\"> <p class=\"items-grid_infoItem_5a0255a1 items-grid_status_5a0255a1 items-grid_soldOut_5a0255a1\">SOLD OUT</p> </div> </div> <div class=\"items-grid_itemDescription_5a0255a1\"> <p class=\"items-grid_itemDescriptionText_5a0255a1\">YouTubeチャンネル運営に関してのコンサルティングを行います。\n",
       "中々伸びずの状況が続いていた私のチャンネルですが、直近は月次5000人以上のペースで増加するまでになりました。\n",
       "\n",
       "試行錯誤の末、溜まってきたノウハウがあります。\n",
       "そのノウハウを元に、大枠の部分から細かな部分までアドバイスを行います。教育系チャンネルは得意領域です。\n",
       "\n",
       "※チャンネル登録者数は2万6千人（2021年3月現在）\n",
       "</p> </div> </div> </div> </div> </div> </a> </li> </ul>"
      ]
     },
     "execution_count": 49,
     "metadata": {},
     "output_type": "execute_result"
    }
   ],
   "source": [
    "soup_ec = BeautifulSoup(requests.get(url_ec).text, 'html.parser')\n",
    "item_list = soup_ec.find('ul',{'id':'itemList'})\n",
    "item_list\n"
   ]
  },
  {
   "cell_type": "code",
   "execution_count": 52,
   "metadata": {},
   "outputs": [
    {
     "data": {
      "text/plain": [
       "4"
      ]
     },
     "execution_count": 52,
     "metadata": {},
     "output_type": "execute_result"
    }
   ],
   "source": [
    "len(item_list.find_all('li'))"
   ]
  },
  {
   "cell_type": "code",
   "execution_count": 79,
   "metadata": {},
   "outputs": [],
   "source": [
    "items = item_list.find_all('li')"
   ]
  },
  {
   "cell_type": "code",
   "execution_count": 72,
   "metadata": {},
   "outputs": [
    {
     "data": {
      "text/plain": [
       "<li class=\"items-grid_itemListLI_5a0255a1\"> <a class=\"items-grid_anchor_5a0255a1 js-anchor\" href=\"https://scraping.official.ec/items/40792454\"> <div class=\"items-grid_container_5a0255a1\"> <div class=\"items-grid_imageContainer_5a0255a1\"> <div class=\"items-grid_imageOuter_5a0255a1\"> <div class=\"items-grid_imageInner_5a0255a1\"> <img class=\"items-grid_image_5a0255a1\" data-src1280=\"https://baseec-img-mng.akamaized.net/images/item/origin/ce284316ad624e6e791f8b3d3165f4bf.png?imformat=generic&amp;q=90&amp;im=Resize,width=1280,type=normal\" height=\"640\" loading=\"lazy\" src=\"https://baseec-img-mng.akamaized.net/images/item/origin/ce284316ad624e6e791f8b3d3165f4bf.png?imformat=generic&amp;q=90&amp;im=Resize,width=640,type=normal\" width=\"640\"/> </div> <div class=\"items-grid_infoContainer_5a0255a1\"> <div class=\"items-grid_infoHead_5a0255a1\"> <div class=\"items-grid_itemTitle_5a0255a1\"> <p class=\"items-grid_itemTitleText_5a0255a1\">YouTubeコンサルティング</p> </div> <div class=\"items-grid_itemPrice_5a0255a1\"> <p class=\"items-grid_price_5a0255a1\">¥15,000</p> </div> <div class=\"items-grid_itemInfoLabels_5a0255a1\"> <p class=\"items-grid_infoItem_5a0255a1 items-grid_status_5a0255a1 items-grid_soldOut_5a0255a1\">SOLD OUT</p> </div> </div> <div class=\"items-grid_itemDescription_5a0255a1\"> <p class=\"items-grid_itemDescriptionText_5a0255a1\">YouTubeチャンネル運営に関してのコンサルティングを行います。\n",
       "中々伸びずの状況が続いていた私のチャンネルですが、直近は月次5000人以上のペースで増加するまでになりました。\n",
       "\n",
       "試行錯誤の末、溜まってきたノウハウがあります。\n",
       "そのノウハウを元に、大枠の部分から細かな部分までアドバイスを行います。教育系チャンネルは得意領域です。\n",
       "\n",
       "※チャンネル登録者数は2万6千人（2021年3月現在）\n",
       "</p> </div> </div> </div> </div> </div> </a> </li>"
      ]
     },
     "execution_count": 72,
     "metadata": {},
     "output_type": "execute_result"
    }
   ],
   "source": [
    "item = item_list.find_all('li')[3]\n",
    "item\n"
   ]
  },
  {
   "cell_type": "code",
   "execution_count": 73,
   "metadata": {},
   "outputs": [
    {
     "data": {
      "text/plain": [
       "'YouTubeコンサルティング'"
      ]
     },
     "execution_count": 73,
     "metadata": {},
     "output_type": "execute_result"
    }
   ],
   "source": [
    "title = item.find('p',{'class':'items-grid_itemTitleText_5a0255a1'}).text\n",
    "title"
   ]
  },
  {
   "cell_type": "code",
   "execution_count": 74,
   "metadata": {},
   "outputs": [
    {
     "data": {
      "text/plain": [
       "15000"
      ]
     },
     "execution_count": 74,
     "metadata": {},
     "output_type": "execute_result"
    }
   ],
   "source": [
    "\n",
    "price = item.find('p', {'class': 'items-grid_price_5a0255a1'}).text\n",
    "price = int(price.replace('¥', '').replace(',', ''))\n",
    "price\n"
   ]
  },
  {
   "cell_type": "code",
   "execution_count": 75,
   "metadata": {},
   "outputs": [
    {
     "data": {
      "text/plain": [
       "'https://scraping.official.ec/items/40792454'"
      ]
     },
     "execution_count": 75,
     "metadata": {},
     "output_type": "execute_result"
    }
   ],
   "source": [
    "link = item.find('a')['href']\n",
    "link"
   ]
  },
  {
   "cell_type": "code",
   "execution_count": null,
   "metadata": {},
   "outputs": [],
   "source": [
    "class=\"items-grid_infoItem_5a0255a1 items-grid_status_5a0255a1 items-grid_soldOut_5a0255a1\""
   ]
  },
  {
   "cell_type": "code",
   "execution_count": 86,
   "metadata": {},
   "outputs": [],
   "source": [
    "items[0].find('p',{'class':'items-grid_infoItem_5a0255a1 items-grid_status_5a0255a1 items-grid_soldOut_5a0255a1'})"
   ]
  },
  {
   "cell_type": "code",
   "execution_count": 87,
   "metadata": {},
   "outputs": [],
   "source": [
    "is_stock = items[0].find('p',{'class':'items-grid_infoItem_5a0255a1 items-grid_status_5a0255a1 items-grid_soldOut_5a0255a1'}) == None"
   ]
  },
  {
   "cell_type": "code",
   "execution_count": 88,
   "metadata": {},
   "outputs": [
    {
     "data": {
      "text/plain": [
       "True"
      ]
     },
     "execution_count": 88,
     "metadata": {},
     "output_type": "execute_result"
    }
   ],
   "source": [
    "is_stock"
   ]
  },
  {
   "cell_type": "code",
   "execution_count": 89,
   "metadata": {},
   "outputs": [
    {
     "data": {
      "text/plain": [
       "'在庫あり'"
      ]
     },
     "execution_count": 89,
     "metadata": {},
     "output_type": "execute_result"
    }
   ],
   "source": [
    "is_stock = '在庫あり' if is_stock == True else '在庫なし'\n",
    "is_stock"
   ]
  },
  {
   "cell_type": "code",
   "execution_count": 108,
   "metadata": {},
   "outputs": [],
   "source": [
    "import pandas as pd\n",
    "\n",
    "soup_ec = BeautifulSoup(requests.get(url_ec).text, 'html.parser')\n",
    "item_list = soup_ec.find('ul', {'id': 'itemList'})\n",
    "\n",
    "data_ec = []\n",
    "items = item_list.find_all('li')\n",
    "\n",
    "for item in items:\n",
    "    datum_ec = {}\n",
    "    datum_ec['title'] = item.find('p',{'class':'items-grid_itemTitleText_5a0255a1'}).text\n",
    "    price = item.find('p', {'class': 'items-grid_price_5a0255a1'}).text\n",
    "    datum_ec['price'] = int(price.replace('¥', '').replace(',', ''))\n",
    "    datum_ec['link'] = item.find('a')['href']\n",
    "    is_stock = item.find('p', {'class': 'items-grid_infoItem_5a0255a1 items-grid_status_5a0255a1 items-grid_soldOut_5a0255a1'}) == None\n",
    "    datum_ec['is_stock'] = '在庫あり' if is_stock == True else '在庫なし'\n",
    "    data_ec.append(datum_ec)\n",
    "    \n"
   ]
  },
  {
   "cell_type": "code",
   "execution_count": 110,
   "metadata": {},
   "outputs": [],
   "source": [
    "aa = pd.DataFrame(data_ec)\n"
   ]
  },
  {
   "cell_type": "code",
   "execution_count": 111,
   "metadata": {},
   "outputs": [
    {
     "data": {
      "text/html": [
       "<div>\n",
       "<style scoped>\n",
       "    .dataframe tbody tr th:only-of-type {\n",
       "        vertical-align: middle;\n",
       "    }\n",
       "\n",
       "    .dataframe tbody tr th {\n",
       "        vertical-align: top;\n",
       "    }\n",
       "\n",
       "    .dataframe thead th {\n",
       "        text-align: right;\n",
       "    }\n",
       "</style>\n",
       "<table border=\"1\" class=\"dataframe\">\n",
       "  <thead>\n",
       "    <tr style=\"text-align: right;\">\n",
       "      <th></th>\n",
       "      <th>title</th>\n",
       "      <th>price</th>\n",
       "      <th>link</th>\n",
       "      <th>is_stock</th>\n",
       "    </tr>\n",
       "  </thead>\n",
       "  <tbody>\n",
       "    <tr>\n",
       "      <th>0</th>\n",
       "      <td>プログラミング学習の相談</td>\n",
       "      <td>30000</td>\n",
       "      <td>https://scraping.official.ec/items/40792108</td>\n",
       "      <td>在庫あり</td>\n",
       "    </tr>\n",
       "    <tr>\n",
       "      <th>1</th>\n",
       "      <td>顧問 &amp; アドバイザリー</td>\n",
       "      <td>100000</td>\n",
       "      <td>https://scraping.official.ec/items/40792153</td>\n",
       "      <td>在庫あり</td>\n",
       "    </tr>\n",
       "    <tr>\n",
       "      <th>2</th>\n",
       "      <td>Udemy講座まとめ買いパック</td>\n",
       "      <td>8000</td>\n",
       "      <td>https://scraping.official.ec/items/40792284</td>\n",
       "      <td>在庫あり</td>\n",
       "    </tr>\n",
       "    <tr>\n",
       "      <th>3</th>\n",
       "      <td>YouTubeコンサルティング</td>\n",
       "      <td>15000</td>\n",
       "      <td>https://scraping.official.ec/items/40792454</td>\n",
       "      <td>在庫なし</td>\n",
       "    </tr>\n",
       "  </tbody>\n",
       "</table>\n",
       "</div>"
      ],
      "text/plain": [
       "             title   price                                         link  \\\n",
       "0     プログラミング学習の相談   30000  https://scraping.official.ec/items/40792108   \n",
       "1     顧問 & アドバイザリー  100000  https://scraping.official.ec/items/40792153   \n",
       "2  Udemy講座まとめ買いパック    8000  https://scraping.official.ec/items/40792284   \n",
       "3  YouTubeコンサルティング   15000  https://scraping.official.ec/items/40792454   \n",
       "\n",
       "  is_stock  \n",
       "0     在庫あり  \n",
       "1     在庫あり  \n",
       "2     在庫あり  \n",
       "3     在庫なし  "
      ]
     },
     "execution_count": 111,
     "metadata": {},
     "output_type": "execute_result"
    }
   ],
   "source": []
  },
  {
   "cell_type": "code",
   "execution_count": 113,
   "metadata": {},
   "outputs": [],
   "source": [
    "def get_udemy():\n",
    "    url = 'https://scraping-for-beginner.herokuapp.com/udemy'\n",
    "    res = requests.get(url)\n",
    "    soup = BeautifulSoup(res.text, 'html.parser')\n",
    "    n_subscriber = soup.find('p', {'class': 'subscribers'}).text\n",
    "    n_subscriber = int(n_subscriber.split('：')[1])\n",
    "\n",
    "    n_review = soup.find('p', {'class': 'reviews'}).text\n",
    "    n_review = int(n_review.split('：')[1])\n",
    "    return {\n",
    "        'n_subscriber': n_subscriber,\n",
    "        'n_review': n_review\n",
    "    }\n"
   ]
  },
  {
   "cell_type": "code",
   "execution_count": 114,
   "metadata": {},
   "outputs": [
    {
     "data": {
      "text/plain": [
       "{'n_subscriber': 16487, 'n_review': 2834}"
      ]
     },
     "execution_count": 114,
     "metadata": {},
     "output_type": "execute_result"
    }
   ],
   "source": [
    "get_udemy()"
   ]
  },
  {
   "cell_type": "code",
   "execution_count": 118,
   "metadata": {},
   "outputs": [],
   "source": [
    "url_ec = 'https://scraping.official.ec/'\n",
    "soup_ec = BeautifulSoup(requests.get(url_ec).text, 'html.parser')\n",
    "\n",
    "item_list = soup_ec.find('ul', {'id': 'itemList'})\n",
    "items = item_list.find_all('li')\n",
    "data_ec = []\n",
    "\n",
    "\n",
    "def get_ec():\n",
    "    for item in items:\n",
    "        datum_ec = {}\n",
    "        datum_ec['title'] = item.find(\n",
    "            'p', {'class': 'items-grid_itemTitleText_5a0255a1'}).text\n",
    "        price = item.find('p', {'class': 'items-grid_price_5a0255a1'}).text\n",
    "        datum_ec['price'] = int(price.replace('¥', '').replace(',', ''))\n",
    "        datum_ec['link'] = item.find('a')['href']\n",
    "        is_stock = item.find(\n",
    "            'p', {'class': 'items-grid_infoItem_5a0255a1 items-grid_status_5a0255a1 items-grid_soldOut_5a0255a1'}) == None\n",
    "        datum_ec['is_stock'] = '在庫あり' if is_stock == True else '在庫なし'\n",
    "        data_ec.append(datum_ec)\n",
    "    df_ec = pd.DataFrame(data_ec)\n",
    "    return df_ec\n"
   ]
  },
  {
   "cell_type": "code",
   "execution_count": 119,
   "metadata": {},
   "outputs": [
    {
     "data": {
      "text/html": [
       "<div>\n",
       "<style scoped>\n",
       "    .dataframe tbody tr th:only-of-type {\n",
       "        vertical-align: middle;\n",
       "    }\n",
       "\n",
       "    .dataframe tbody tr th {\n",
       "        vertical-align: top;\n",
       "    }\n",
       "\n",
       "    .dataframe thead th {\n",
       "        text-align: right;\n",
       "    }\n",
       "</style>\n",
       "<table border=\"1\" class=\"dataframe\">\n",
       "  <thead>\n",
       "    <tr style=\"text-align: right;\">\n",
       "      <th></th>\n",
       "      <th>title</th>\n",
       "      <th>price</th>\n",
       "      <th>link</th>\n",
       "      <th>is_stock</th>\n",
       "    </tr>\n",
       "  </thead>\n",
       "  <tbody>\n",
       "    <tr>\n",
       "      <th>0</th>\n",
       "      <td>プログラミング学習の相談</td>\n",
       "      <td>30000</td>\n",
       "      <td>https://scraping.official.ec/items/40792108</td>\n",
       "      <td>在庫あり</td>\n",
       "    </tr>\n",
       "    <tr>\n",
       "      <th>1</th>\n",
       "      <td>顧問 &amp; アドバイザリー</td>\n",
       "      <td>100000</td>\n",
       "      <td>https://scraping.official.ec/items/40792153</td>\n",
       "      <td>在庫あり</td>\n",
       "    </tr>\n",
       "    <tr>\n",
       "      <th>2</th>\n",
       "      <td>Udemy講座まとめ買いパック</td>\n",
       "      <td>8000</td>\n",
       "      <td>https://scraping.official.ec/items/40792284</td>\n",
       "      <td>在庫あり</td>\n",
       "    </tr>\n",
       "    <tr>\n",
       "      <th>3</th>\n",
       "      <td>YouTubeコンサルティング</td>\n",
       "      <td>15000</td>\n",
       "      <td>https://scraping.official.ec/items/40792454</td>\n",
       "      <td>在庫なし</td>\n",
       "    </tr>\n",
       "  </tbody>\n",
       "</table>\n",
       "</div>"
      ],
      "text/plain": [
       "             title   price                                         link  \\\n",
       "0     プログラミング学習の相談   30000  https://scraping.official.ec/items/40792108   \n",
       "1     顧問 & アドバイザリー  100000  https://scraping.official.ec/items/40792153   \n",
       "2  Udemy講座まとめ買いパック    8000  https://scraping.official.ec/items/40792284   \n",
       "3  YouTubeコンサルティング   15000  https://scraping.official.ec/items/40792454   \n",
       "\n",
       "  is_stock  \n",
       "0     在庫あり  \n",
       "1     在庫あり  \n",
       "2     在庫あり  \n",
       "3     在庫なし  "
      ]
     },
     "execution_count": 119,
     "metadata": {},
     "output_type": "execute_result"
    }
   ],
   "source": [
    "get_ec()"
   ]
  },
  {
   "cell_type": "code",
   "execution_count": 131,
   "metadata": {},
   "outputs": [
    {
     "name": "stdout",
     "output_type": "stream",
     "text": [
      "Defaulting to user installation because normal site-packages is not writeable\n",
      "Collecting gspread\n",
      "  Using cached gspread-5.4.0-py3-none-any.whl (37 kB)\n",
      "Requirement already satisfied: google-auth>=1.12.0 in c:\\users\\sho\\appdata\\roaming\\python\\python39\\site-packages (from gspread) (2.6.0)\n",
      "Collecting google-auth-oauthlib>=0.4.1\n",
      "  Using cached google_auth_oauthlib-0.5.1-py2.py3-none-any.whl (19 kB)\n",
      "Requirement already satisfied: rsa<5,>=3.1.4 in c:\\users\\sho\\appdata\\roaming\\python\\python39\\site-packages (from google-auth>=1.12.0->gspread) (4.8)\n",
      "Requirement already satisfied: cachetools<6.0,>=2.0.0 in c:\\users\\sho\\appdata\\roaming\\python\\python39\\site-packages (from google-auth>=1.12.0->gspread) (5.0.0)\n",
      "Requirement already satisfied: six>=1.9.0 in c:\\users\\sho\\appdata\\roaming\\python\\python39\\site-packages (from google-auth>=1.12.0->gspread) (1.16.0)\n",
      "Requirement already satisfied: pyasn1-modules>=0.2.1 in c:\\users\\sho\\appdata\\roaming\\python\\python39\\site-packages (from google-auth>=1.12.0->gspread) (0.2.8)\n",
      "Requirement already satisfied: requests-oauthlib>=0.7.0 in c:\\users\\sho\\appdata\\roaming\\python\\python39\\site-packages (from google-auth-oauthlib>=0.4.1->gspread) (1.3.1)\n",
      "Requirement already satisfied: pyasn1<0.5.0,>=0.4.6 in c:\\users\\sho\\appdata\\roaming\\python\\python39\\site-packages (from pyasn1-modules>=0.2.1->google-auth>=1.12.0->gspread) (0.4.8)\n",
      "Requirement already satisfied: oauthlib>=3.0.0 in c:\\users\\sho\\appdata\\roaming\\python\\python39\\site-packages (from requests-oauthlib>=0.7.0->google-auth-oauthlib>=0.4.1->gspread) (3.2.0)\n",
      "Requirement already satisfied: requests>=2.0.0 in c:\\users\\sho\\appdata\\roaming\\python\\python39\\site-packages (from requests-oauthlib>=0.7.0->google-auth-oauthlib>=0.4.1->gspread) (2.26.0)\n",
      "Requirement already satisfied: charset-normalizer~=2.0.0 in c:\\users\\sho\\appdata\\roaming\\python\\python39\\site-packages (from requests>=2.0.0->requests-oauthlib>=0.7.0->google-auth-oauthlib>=0.4.1->gspread) (2.0.4)\n",
      "Requirement already satisfied: idna<4,>=2.5 in c:\\users\\sho\\appdata\\roaming\\python\\python39\\site-packages (from requests>=2.0.0->requests-oauthlib>=0.7.0->google-auth-oauthlib>=0.4.1->gspread) (3.2)\n",
      "Requirement already satisfied: certifi>=2017.4.17 in c:\\users\\sho\\appdata\\roaming\\python\\python39\\site-packages (from requests>=2.0.0->requests-oauthlib>=0.7.0->google-auth-oauthlib>=0.4.1->gspread) (2021.5.30)\n",
      "Requirement already satisfied: urllib3<1.27,>=1.21.1 in c:\\users\\sho\\appdata\\roaming\\python\\python39\\site-packages (from requests>=2.0.0->requests-oauthlib>=0.7.0->google-auth-oauthlib>=0.4.1->gspread) (1.26.6)\n",
      "Installing collected packages: google-auth-oauthlib, gspread\n",
      "Successfully installed google-auth-oauthlib-0.5.1 gspread-5.4.0\n",
      "Note: you may need to restart the kernel to use updated packages.\n"
     ]
    },
    {
     "name": "stderr",
     "output_type": "stream",
     "text": [
      "  WARNING: The script google-oauthlib-tool.exe is installed in 'C:\\Users\\sho\\AppData\\Roaming\\Python\\Python39\\Scripts' which is not on PATH.\n",
      "  Consider adding this directory to PATH or, if you prefer to suppress this warning, use --no-warn-script-location.\n",
      "WARNING: You are using pip version 22.0.3; however, version 22.1.1 is available.\n",
      "You should consider upgrading via the 'c:\\Program Files\\Python39\\python.exe -m pip install --upgrade pip' command.\n"
     ]
    }
   ],
   "source": [
    "pip install gspread\n"
   ]
  },
  {
   "cell_type": "code",
   "execution_count": 132,
   "metadata": {},
   "outputs": [],
   "source": [
    "import gspread\n",
    "from google.oauth2.service_account import Credentials\n",
    "\n",
    "scopes = [\n",
    "    'https://www.googleapis.com/auth/spreadsheets',\n",
    "    'https://www.googleapis.com/auth/drive'\n",
    "]\n",
    "\n",
    "credentials = Credentials.from_service_account_file(\n",
    "    'udemy-scraping.json',\n",
    "    scopes=scopes\n",
    ")\n",
    "\n",
    "gc = gspread.authorize(credentials)\n"
   ]
  },
  {
   "cell_type": "code",
   "execution_count": 134,
   "metadata": {},
   "outputs": [
    {
     "data": {
      "text/plain": [
       "<Spreadsheet 'スクレイピング用DB' id:1Q-lOqjp-_H02vfRRviBOCNrpfta2Dcus-K3DZuGJVdw>"
      ]
     },
     "execution_count": 134,
     "metadata": {},
     "output_type": "execute_result"
    }
   ],
   "source": [
    "\n",
    "SP_SHEET_KEY = '1Q-lOqjp-_H02vfRRviBOCNrpfta2Dcus-K3DZuGJVdw'\n",
    "sh = gc.open_by_key(SP_SHEET_KEY)\n",
    "sh\n"
   ]
  },
  {
   "cell_type": "code",
   "execution_count": 174,
   "metadata": {},
   "outputs": [
    {
     "data": {
      "text/html": [
       "<div>\n",
       "<style scoped>\n",
       "    .dataframe tbody tr th:only-of-type {\n",
       "        vertical-align: middle;\n",
       "    }\n",
       "\n",
       "    .dataframe tbody tr th {\n",
       "        vertical-align: top;\n",
       "    }\n",
       "\n",
       "    .dataframe thead th {\n",
       "        text-align: right;\n",
       "    }\n",
       "</style>\n",
       "<table border=\"1\" class=\"dataframe\">\n",
       "  <thead>\n",
       "    <tr style=\"text-align: right;\">\n",
       "      <th></th>\n",
       "      <th>date</th>\n",
       "      <th>n_subscriber</th>\n",
       "      <th>n_review</th>\n",
       "    </tr>\n",
       "  </thead>\n",
       "  <tbody>\n",
       "    <tr>\n",
       "      <th>0</th>\n",
       "      <td>2021/03/09</td>\n",
       "      <td>11032</td>\n",
       "      <td>1882</td>\n",
       "    </tr>\n",
       "    <tr>\n",
       "      <th>1</th>\n",
       "      <td>2021/03/10</td>\n",
       "      <td>11049</td>\n",
       "      <td>1885</td>\n",
       "    </tr>\n",
       "    <tr>\n",
       "      <th>2</th>\n",
       "      <td>2021/03/11</td>\n",
       "      <td>11068</td>\n",
       "      <td>1889</td>\n",
       "    </tr>\n",
       "    <tr>\n",
       "      <th>3</th>\n",
       "      <td>2021/03/12</td>\n",
       "      <td>11070</td>\n",
       "      <td>1891</td>\n",
       "    </tr>\n",
       "    <tr>\n",
       "      <th>4</th>\n",
       "      <td>2021/03/13</td>\n",
       "      <td>11074</td>\n",
       "      <td>1894</td>\n",
       "    </tr>\n",
       "    <tr>\n",
       "      <th>...</th>\n",
       "      <td>...</td>\n",
       "      <td>...</td>\n",
       "      <td>...</td>\n",
       "    </tr>\n",
       "    <tr>\n",
       "      <th>446</th>\n",
       "      <td>2022/05/30</td>\n",
       "      <td>16441</td>\n",
       "      <td>2830</td>\n",
       "    </tr>\n",
       "    <tr>\n",
       "      <th>447</th>\n",
       "      <td>2022/05/31</td>\n",
       "      <td>16446</td>\n",
       "      <td>2830</td>\n",
       "    </tr>\n",
       "    <tr>\n",
       "      <th>448</th>\n",
       "      <td>2022/06/01</td>\n",
       "      <td>16456</td>\n",
       "      <td>2830</td>\n",
       "    </tr>\n",
       "    <tr>\n",
       "      <th>449</th>\n",
       "      <td>2022/06/02</td>\n",
       "      <td>16471</td>\n",
       "      <td>2830</td>\n",
       "    </tr>\n",
       "    <tr>\n",
       "      <th>450</th>\n",
       "      <td>2022/06/03</td>\n",
       "      <td>16483</td>\n",
       "      <td>2830</td>\n",
       "    </tr>\n",
       "  </tbody>\n",
       "</table>\n",
       "<p>451 rows × 3 columns</p>\n",
       "</div>"
      ],
      "text/plain": [
       "           date n_subscriber n_review\n",
       "0    2021/03/09        11032     1882\n",
       "1    2021/03/10        11049     1885\n",
       "2    2021/03/11        11068     1889\n",
       "3    2021/03/12        11070     1891\n",
       "4    2021/03/13        11074     1894\n",
       "..          ...          ...      ...\n",
       "446  2022/05/30        16441     2830\n",
       "447  2022/05/31        16446     2830\n",
       "448  2022/06/01        16456     2830\n",
       "449  2022/06/02        16471     2830\n",
       "450  2022/06/03        16483     2830\n",
       "\n",
       "[451 rows x 3 columns]"
      ]
     },
     "execution_count": 174,
     "metadata": {},
     "output_type": "execute_result"
    }
   ],
   "source": [
    "SP_SHEET = 'db'\n",
    "worksheet = sh.worksheet(SP_SHEET)\n",
    "data = worksheet.get_all_values()\n",
    "df=pd.DataFrame(data[1:],columns=data[0])\n",
    "df\n"
   ]
  },
  {
   "cell_type": "code",
   "execution_count": 175,
   "metadata": {},
   "outputs": [
    {
     "data": {
      "text/plain": [
       "{'n_subscriber': 16487, 'n_review': 2834, 'date': '2022/06/04'}"
      ]
     },
     "execution_count": 175,
     "metadata": {},
     "output_type": "execute_result"
    }
   ],
   "source": [
    "udemy_scraping = get_udemy()\n",
    "\n",
    "import datetime\n",
    "today = datetime.date.today().strftime('%Y/%m/%d')\n",
    "udemy_scraping['date'] = today\n",
    "udemy_scraping\n"
   ]
  },
  {
   "cell_type": "code",
   "execution_count": 176,
   "metadata": {},
   "outputs": [
    {
     "data": {
      "text/html": [
       "<div>\n",
       "<style scoped>\n",
       "    .dataframe tbody tr th:only-of-type {\n",
       "        vertical-align: middle;\n",
       "    }\n",
       "\n",
       "    .dataframe tbody tr th {\n",
       "        vertical-align: top;\n",
       "    }\n",
       "\n",
       "    .dataframe thead th {\n",
       "        text-align: right;\n",
       "    }\n",
       "</style>\n",
       "<table border=\"1\" class=\"dataframe\">\n",
       "  <thead>\n",
       "    <tr style=\"text-align: right;\">\n",
       "      <th></th>\n",
       "      <th>date</th>\n",
       "      <th>n_subscriber</th>\n",
       "      <th>n_review</th>\n",
       "    </tr>\n",
       "  </thead>\n",
       "  <tbody>\n",
       "    <tr>\n",
       "      <th>0</th>\n",
       "      <td>2021/03/09</td>\n",
       "      <td>11032</td>\n",
       "      <td>1882</td>\n",
       "    </tr>\n",
       "    <tr>\n",
       "      <th>1</th>\n",
       "      <td>2021/03/10</td>\n",
       "      <td>11049</td>\n",
       "      <td>1885</td>\n",
       "    </tr>\n",
       "    <tr>\n",
       "      <th>2</th>\n",
       "      <td>2021/03/11</td>\n",
       "      <td>11068</td>\n",
       "      <td>1889</td>\n",
       "    </tr>\n",
       "    <tr>\n",
       "      <th>3</th>\n",
       "      <td>2021/03/12</td>\n",
       "      <td>11070</td>\n",
       "      <td>1891</td>\n",
       "    </tr>\n",
       "    <tr>\n",
       "      <th>4</th>\n",
       "      <td>2021/03/13</td>\n",
       "      <td>11074</td>\n",
       "      <td>1894</td>\n",
       "    </tr>\n",
       "    <tr>\n",
       "      <th>...</th>\n",
       "      <td>...</td>\n",
       "      <td>...</td>\n",
       "      <td>...</td>\n",
       "    </tr>\n",
       "    <tr>\n",
       "      <th>447</th>\n",
       "      <td>2022/05/31</td>\n",
       "      <td>16446</td>\n",
       "      <td>2830</td>\n",
       "    </tr>\n",
       "    <tr>\n",
       "      <th>448</th>\n",
       "      <td>2022/06/01</td>\n",
       "      <td>16456</td>\n",
       "      <td>2830</td>\n",
       "    </tr>\n",
       "    <tr>\n",
       "      <th>449</th>\n",
       "      <td>2022/06/02</td>\n",
       "      <td>16471</td>\n",
       "      <td>2830</td>\n",
       "    </tr>\n",
       "    <tr>\n",
       "      <th>450</th>\n",
       "      <td>2022/06/03</td>\n",
       "      <td>16483</td>\n",
       "      <td>2830</td>\n",
       "    </tr>\n",
       "    <tr>\n",
       "      <th>451</th>\n",
       "      <td>2022/06/04</td>\n",
       "      <td>16487</td>\n",
       "      <td>2834</td>\n",
       "    </tr>\n",
       "  </tbody>\n",
       "</table>\n",
       "<p>452 rows × 3 columns</p>\n",
       "</div>"
      ],
      "text/plain": [
       "           date n_subscriber n_review\n",
       "0    2021/03/09        11032     1882\n",
       "1    2021/03/10        11049     1885\n",
       "2    2021/03/11        11068     1889\n",
       "3    2021/03/12        11070     1891\n",
       "4    2021/03/13        11074     1894\n",
       "..          ...          ...      ...\n",
       "447  2022/05/31        16446     2830\n",
       "448  2022/06/01        16456     2830\n",
       "449  2022/06/02        16471     2830\n",
       "450  2022/06/03        16483     2830\n",
       "451  2022/06/04        16487     2834\n",
       "\n",
       "[452 rows x 3 columns]"
      ]
     },
     "execution_count": 176,
     "metadata": {},
     "output_type": "execute_result"
    }
   ],
   "source": [
    "df2 =df.append(udemy_scraping, ignore_index=True )\n",
    "df2"
   ]
  },
  {
   "cell_type": "code",
   "execution_count": 167,
   "metadata": {},
   "outputs": [
    {
     "name": "stdout",
     "output_type": "stream",
     "text": [
      "Defaulting to user installation because normal site-packages is not writeable\n",
      "Collecting gspread-dataframe\n",
      "  Using cached gspread_dataframe-3.3.0-py2.py3-none-any.whl (7.9 kB)\n",
      "Requirement already satisfied: six>=1.12.0 in c:\\users\\sho\\appdata\\roaming\\python\\python39\\site-packages (from gspread-dataframe) (1.16.0)\n",
      "Requirement already satisfied: pandas>=0.24.0 in c:\\users\\sho\\appdata\\roaming\\python\\python39\\site-packages (from gspread-dataframe) (1.3.2)\n",
      "Requirement already satisfied: gspread>=3.0.0 in c:\\users\\sho\\appdata\\roaming\\python\\python39\\site-packages (from gspread-dataframe) (5.4.0)\n",
      "Requirement already satisfied: google-auth-oauthlib>=0.4.1 in c:\\users\\sho\\appdata\\roaming\\python\\python39\\site-packages (from gspread>=3.0.0->gspread-dataframe) (0.5.1)\n",
      "Requirement already satisfied: google-auth>=1.12.0 in c:\\users\\sho\\appdata\\roaming\\python\\python39\\site-packages (from gspread>=3.0.0->gspread-dataframe) (2.6.0)\n",
      "Requirement already satisfied: pytz>=2017.3 in c:\\users\\sho\\appdata\\roaming\\python\\python39\\site-packages (from pandas>=0.24.0->gspread-dataframe) (2021.1)\n",
      "Requirement already satisfied: numpy>=1.17.3 in c:\\users\\sho\\appdata\\roaming\\python\\python39\\site-packages (from pandas>=0.24.0->gspread-dataframe) (1.21.2)\n",
      "Requirement already satisfied: python-dateutil>=2.7.3 in c:\\users\\sho\\appdata\\roaming\\python\\python39\\site-packages (from pandas>=0.24.0->gspread-dataframe) (2.8.2)\n",
      "Requirement already satisfied: rsa<5,>=3.1.4 in c:\\users\\sho\\appdata\\roaming\\python\\python39\\site-packages (from google-auth>=1.12.0->gspread>=3.0.0->gspread-dataframe) (4.8)\n",
      "Requirement already satisfied: pyasn1-modules>=0.2.1 in c:\\users\\sho\\appdata\\roaming\\python\\python39\\site-packages (from google-auth>=1.12.0->gspread>=3.0.0->gspread-dataframe) (0.2.8)\n",
      "Requirement already satisfied: cachetools<6.0,>=2.0.0 in c:\\users\\sho\\appdata\\roaming\\python\\python39\\site-packages (from google-auth>=1.12.0->gspread>=3.0.0->gspread-dataframe) (5.0.0)\n",
      "Requirement already satisfied: requests-oauthlib>=0.7.0 in c:\\users\\sho\\appdata\\roaming\\python\\python39\\site-packages (from google-auth-oauthlib>=0.4.1->gspread>=3.0.0->gspread-dataframe) (1.3.1)\n",
      "Requirement already satisfied: pyasn1<0.5.0,>=0.4.6 in c:\\users\\sho\\appdata\\roaming\\python\\python39\\site-packages (from pyasn1-modules>=0.2.1->google-auth>=1.12.0->gspread>=3.0.0->gspread-dataframe) (0.4.8)\n",
      "Requirement already satisfied: oauthlib>=3.0.0 in c:\\users\\sho\\appdata\\roaming\\python\\python39\\site-packages (from requests-oauthlib>=0.7.0->google-auth-oauthlib>=0.4.1->gspread>=3.0.0->gspread-dataframe) (3.2.0)\n",
      "Requirement already satisfied: requests>=2.0.0 in c:\\users\\sho\\appdata\\roaming\\python\\python39\\site-packages (from requests-oauthlib>=0.7.0->google-auth-oauthlib>=0.4.1->gspread>=3.0.0->gspread-dataframe) (2.26.0)\n",
      "Requirement already satisfied: idna<4,>=2.5 in c:\\users\\sho\\appdata\\roaming\\python\\python39\\site-packages (from requests>=2.0.0->requests-oauthlib>=0.7.0->google-auth-oauthlib>=0.4.1->gspread>=3.0.0->gspread-dataframe) (3.2)\n",
      "Requirement already satisfied: urllib3<1.27,>=1.21.1 in c:\\users\\sho\\appdata\\roaming\\python\\python39\\site-packages (from requests>=2.0.0->requests-oauthlib>=0.7.0->google-auth-oauthlib>=0.4.1->gspread>=3.0.0->gspread-dataframe) (1.26.6)\n",
      "Requirement already satisfied: certifi>=2017.4.17 in c:\\users\\sho\\appdata\\roaming\\python\\python39\\site-packages (from requests>=2.0.0->requests-oauthlib>=0.7.0->google-auth-oauthlib>=0.4.1->gspread>=3.0.0->gspread-dataframe) (2021.5.30)\n",
      "Requirement already satisfied: charset-normalizer~=2.0.0 in c:\\users\\sho\\appdata\\roaming\\python\\python39\\site-packages (from requests>=2.0.0->requests-oauthlib>=0.7.0->google-auth-oauthlib>=0.4.1->gspread>=3.0.0->gspread-dataframe) (2.0.4)\n",
      "Installing collected packages: gspread-dataframe\n",
      "Successfully installed gspread-dataframe-3.3.0\n",
      "Note: you may need to restart the kernel to use updated packages.\n"
     ]
    },
    {
     "name": "stderr",
     "output_type": "stream",
     "text": [
      "WARNING: You are using pip version 22.0.3; however, version 22.1.1 is available.\n",
      "You should consider upgrading via the 'c:\\Program Files\\Python39\\python.exe -m pip install --upgrade pip' command.\n"
     ]
    }
   ],
   "source": [
    "pip install gspread-dataframe"
   ]
  },
  {
   "cell_type": "code",
   "execution_count": 168,
   "metadata": {},
   "outputs": [],
   "source": [
    "from gspread_dataframe import set_with_dataframe\n",
    "set_with_dataframe(worksheet, df2, row=1, col=1)\n"
   ]
  },
  {
   "cell_type": "code",
   "execution_count": 169,
   "metadata": {},
   "outputs": [],
   "source": [
    "#更新後のスプレッドシートの値を取得\n",
    "worksheet = sh.worksheet(SP_SHEET)\n",
    "data_new = worksheet.get_all_values()\n",
    "df_sp_new = pd.DataFrame(data_new[1:], columns=data_new[0])\n"
   ]
  },
  {
   "cell_type": "code",
   "execution_count": 170,
   "metadata": {},
   "outputs": [
    {
     "data": {
      "text/html": [
       "<div>\n",
       "<style scoped>\n",
       "    .dataframe tbody tr th:only-of-type {\n",
       "        vertical-align: middle;\n",
       "    }\n",
       "\n",
       "    .dataframe tbody tr th {\n",
       "        vertical-align: top;\n",
       "    }\n",
       "\n",
       "    .dataframe thead th {\n",
       "        text-align: right;\n",
       "    }\n",
       "</style>\n",
       "<table border=\"1\" class=\"dataframe\">\n",
       "  <thead>\n",
       "    <tr style=\"text-align: right;\">\n",
       "      <th></th>\n",
       "      <th>date</th>\n",
       "      <th>n_subscriber</th>\n",
       "      <th>n_review</th>\n",
       "    </tr>\n",
       "  </thead>\n",
       "  <tbody>\n",
       "    <tr>\n",
       "      <th>0</th>\n",
       "      <td>2021/03/09</td>\n",
       "      <td>11032</td>\n",
       "      <td>1882</td>\n",
       "    </tr>\n",
       "    <tr>\n",
       "      <th>1</th>\n",
       "      <td>2021/03/10</td>\n",
       "      <td>11049</td>\n",
       "      <td>1885</td>\n",
       "    </tr>\n",
       "    <tr>\n",
       "      <th>2</th>\n",
       "      <td>2021/03/11</td>\n",
       "      <td>11068</td>\n",
       "      <td>1889</td>\n",
       "    </tr>\n",
       "    <tr>\n",
       "      <th>3</th>\n",
       "      <td>2021/03/12</td>\n",
       "      <td>11070</td>\n",
       "      <td>1891</td>\n",
       "    </tr>\n",
       "    <tr>\n",
       "      <th>4</th>\n",
       "      <td>2021/03/13</td>\n",
       "      <td>11074</td>\n",
       "      <td>1894</td>\n",
       "    </tr>\n",
       "    <tr>\n",
       "      <th>...</th>\n",
       "      <td>...</td>\n",
       "      <td>...</td>\n",
       "      <td>...</td>\n",
       "    </tr>\n",
       "    <tr>\n",
       "      <th>447</th>\n",
       "      <td>2022/05/31</td>\n",
       "      <td>16446</td>\n",
       "      <td>2830</td>\n",
       "    </tr>\n",
       "    <tr>\n",
       "      <th>448</th>\n",
       "      <td>2022/06/01</td>\n",
       "      <td>16456</td>\n",
       "      <td>2830</td>\n",
       "    </tr>\n",
       "    <tr>\n",
       "      <th>449</th>\n",
       "      <td>2022/06/02</td>\n",
       "      <td>16471</td>\n",
       "      <td>2830</td>\n",
       "    </tr>\n",
       "    <tr>\n",
       "      <th>450</th>\n",
       "      <td>2022/06/03</td>\n",
       "      <td>16483</td>\n",
       "      <td>2830</td>\n",
       "    </tr>\n",
       "    <tr>\n",
       "      <th>451</th>\n",
       "      <td>2022/06/04</td>\n",
       "      <td>16487</td>\n",
       "      <td>2834</td>\n",
       "    </tr>\n",
       "  </tbody>\n",
       "</table>\n",
       "<p>452 rows × 3 columns</p>\n",
       "</div>"
      ],
      "text/plain": [
       "           date n_subscriber n_review\n",
       "0    2021/03/09        11032     1882\n",
       "1    2021/03/10        11049     1885\n",
       "2    2021/03/11        11068     1889\n",
       "3    2021/03/12        11070     1891\n",
       "4    2021/03/13        11074     1894\n",
       "..          ...          ...      ...\n",
       "447  2022/05/31        16446     2830\n",
       "448  2022/06/01        16456     2830\n",
       "449  2022/06/02        16471     2830\n",
       "450  2022/06/03        16483     2830\n",
       "451  2022/06/04        16487     2834\n",
       "\n",
       "[452 rows x 3 columns]"
      ]
     },
     "execution_count": 170,
     "metadata": {},
     "output_type": "execute_result"
    }
   ],
   "source": [
    "df_sp_new\n"
   ]
  },
  {
   "cell_type": "code",
   "execution_count": null,
   "metadata": {},
   "outputs": [],
   "source": []
  }
 ],
 "metadata": {
  "interpreter": {
   "hash": "11938c6bc6919ae2720b4d5011047913343b08a43b18698fd82dedb0d4417594"
  },
  "kernelspec": {
   "display_name": "Python 3.9.7 64-bit",
   "language": "python",
   "name": "python3"
  },
  "language_info": {
   "codemirror_mode": {
    "name": "ipython",
    "version": 3
   },
   "file_extension": ".py",
   "mimetype": "text/x-python",
   "name": "python",
   "nbconvert_exporter": "python",
   "pygments_lexer": "ipython3",
   "version": "3.9.7"
  },
  "orig_nbformat": 4
 },
 "nbformat": 4,
 "nbformat_minor": 2
}
